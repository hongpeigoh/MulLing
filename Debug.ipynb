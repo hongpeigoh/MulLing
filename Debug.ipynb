{
 "cells": [
  {
   "cell_type": "code",
   "execution_count": 1,
   "metadata": {},
   "outputs": [],
   "source": [
    "from main import MulLingVectors"
   ]
  },
  {
   "cell_type": "code",
   "execution_count": 2,
   "metadata": {},
   "outputs": [
    {
     "name": "stdout",
     "output_type": "stream",
     "text": [
      "Importing FastText Vectors for en\n",
      "Reading word vectors from vecs/nb-en-dump.txt\n",
      "Importing articles from articles/articles-en.pkl\n",
      "The en document vectors are already loaded!\n",
      "The en meta-document vectors are already loaded!\n",
      "Instancing en KD-Tree\n",
      "KD-tree loaded!\n",
      "Importing FastText Vectors for zh\n",
      "Reading word vectors from vecs/nb-zh-dump.txt\n",
      "Importing articles from articles/articles-zh.pkl\n",
      "The zh document vectors are already loaded!\n",
      "The zh meta-document vectors are already loaded!\n",
      "Instancing zh KD-Tree\n",
      "KD-tree loaded!\n",
      "Importing FastText Vectors for ms\n",
      "Reading word vectors from vecs/nb-ms-dump.txt\n",
      "Importing articles from articles/articles-ms.pkl\n",
      "The ms document vectors are already loaded!\n",
      "The ms meta-document vectors are already loaded!\n",
      "Instancing ms KD-Tree\n",
      "KD-tree loaded!\n",
      "All vector dictionaries loaded!\n"
     ]
    }
   ],
   "source": [
    "my_object = MulLingVectors(method=3, langs = ['en','zh','ms'])"
   ]
  },
  {
   "cell_type": "code",
   "execution_count": 3,
   "metadata": {},
   "outputs": [],
   "source": [
    "from src import get, query, processing"
   ]
  },
  {
   "cell_type": "code",
   "execution_count": null,
   "metadata": {},
   "outputs": [],
   "source": [
    "import imp\n",
    "imp.reload(query)"
   ]
  },
  {
   "cell_type": "code",
   "execution_count": 12,
   "metadata": {},
   "outputs": [
    {
     "name": "stdout",
     "output_type": "stream",
     "text": [
      "Bersyukur dan tidak pulang hampa lihat keindahan alam di Finland\n",
      "Cheap & Good: Ice cream and waffles steal the show at Lickety\n",
      "Aduhai... mochi Melayu... donut Melayu...\n",
      "Seronoknya pakej teroka laut Maldives\n",
      "Kotak Impian\n",
      "研究：瑞士冰川过去5年缩小10%\n",
      "美国出大白兔冰淇淋 网友喊话：为啥饿着我们？\n",
      "Make a dreamy no-churn matcha ice cream\n",
      "Cool, dairy-free, vegan decadence\n",
      "Demi langsing, senaman kardio dan angkat berat saling lengkapi\n",
      "南极冰川现巨型洞穴 科学家担心加速融冰\n",
      "Food outlets' role in diabetes fight\n",
      "Enjoying cool treats at Ben & Jerry's outlets\n",
      "Hipster treats a 'touch of magic'\n",
      "情人节将至 粉红巧克力掳获日本少女心\n",
      "Sarapan\n",
      "Uber lancar khidmat angkut haiwan\n",
      "杨枝甘露含糖量高 一碗糖摄量就超标\n",
      "【记者挑战】男记者挑战模仿网红？美照、“照骗”你说了算\n",
      "Birthday treats for zoo's only polar bear\n",
      "Wall time: 3.39 s\n"
     ]
    }
   ],
   "source": [
    "%%time\n",
    "results = query.mulling_query(my_object, 'ice cream 跑步 kucing', k=20, kdtree=False, normalize_top_L=True)\n",
    "get._getresults(my_object, results)"
   ]
  },
  {
   "cell_type": "code",
   "execution_count": 13,
   "metadata": {},
   "outputs": [
    {
     "name": "stdout",
     "output_type": "stream",
     "text": [
      "Cheap & Good: Ice cream and waffles steal the show at Lickety\n",
      "Make a dreamy no-churn matcha ice cream\n",
      "Cool, dairy-free, vegan decadence\n",
      "研究：瑞士冰川过去5年缩小10%\n",
      "美国出大白兔冰淇淋 网友喊话：为啥饿着我们？\n",
      "Food outlets' role in diabetes fight\n",
      "Enjoying cool treats at Ben & Jerry's outlets\n",
      "Hipster treats a 'touch of magic'\n",
      "Bersyukur dan tidak pulang hampa lihat keindahan alam di Finland\n",
      "南极冰川现巨型洞穴 科学家担心加速融冰\n",
      "Aduhai... mochi Melayu... donut Melayu...\n",
      "Seronoknya pakej teroka laut Maldives\n",
      "情人节将至 粉红巧克力掳获日本少女心\n",
      "Kotak Impian\n",
      "Birthday treats for zoo's only polar bear\n",
      "杨枝甘露含糖量高 一碗糖摄量就超标\n",
      "【记者挑战】男记者挑战模仿网红？美照、“照骗”你说了算\n",
      "Demi langsing, senaman kardio dan angkat berat saling lengkapi\n",
      "Sarapan\n",
      "Uber lancar khidmat angkut haiwan\n",
      "Wall time: 2.38 s\n"
     ]
    }
   ],
   "source": [
    "%%time\n",
    "results = query.mulling_query(my_object, 'ice cream 跑步 kucing', k=20, kdtree=True, normalize_top_L=True)\n",
    "get._getresults(my_object, results)"
   ]
  },
  {
   "cell_type": "code",
   "execution_count": null,
   "metadata": {
    "scrolled": true
   },
   "outputs": [],
   "source": [
    "%%time\n",
    "\n",
    "def simq(query, lang):\n",
    "    results = my_object.simple_query2(query, lang, 300)\n",
    "    print(results)\n",
    "    for cs,ai,lang in results:\n",
    "        print(my_object.docs[lang][ai][0])\n",
    "        \n",
    "simq('ice cream', 'en')\n",
    "\n",
    "# Results: 3.03 s ± 52.1 ms per loop (mean ± std. dev. of 7 runs, 1 loop each)"
   ]
  },
  {
   "cell_type": "code",
   "execution_count": null,
   "metadata": {},
   "outputs": [],
   "source": [
    "def kdtq(query, lang):\n",
    "    #results = my_object.kdtree_query(query, lang,30)\n",
    "    print(results)\n",
    "    for cs,ai,lang in results:\n",
    "        print(my_object.docs[lang][ai][0])\n",
    "        \n",
    "# %timeit kdtq('ice cream', 'en')\n",
    "\n",
    "# Results: 1.34 s ± 27.8 ms per loop (mean ± std. dev. of 7 runs, 1 loop each)"
   ]
  },
  {
   "cell_type": "code",
   "execution_count": null,
   "metadata": {},
   "outputs": [],
   "source": [
    "def kdtmq(query, kdtree = True, normalize_top_l = True):\n",
    "    results = my_object.mulling_query(query, k=40, l=15, kdtree = kdtree, normalize_top_l = normalize_top_l)\n",
    "    print(results)\n",
    "#     for cs,ai,lang in results:\n",
    "#         print(my_object.docs[lang][ai][0])\n",
    "        \n",
    "# 2.05 s ± 65.6 ms per loop (mean ± std. dev. of 7 runs, 1 loop each)\n",
    "\n",
    "def simmq(query, kdtree = False, normalize_top_l = True):\n",
    "    results = my_object.mulling_query(query, k=40, l=15, kdtree = kdtree, normalize_top_l = normalize_top_l)\n",
    "    print(results)\n",
    "#     for cs,ai,lang in results:\n",
    "#         print(my_object.docs[lang][ai][0])\n",
    "        \n",
    "# 4.12 s ± 13 ms per loop (mean ± std. dev. of 7 runs, 1 loop each)\n",
    "\n",
    "query = 'paper plane 坠毁'\n",
    "simmq(query)\n",
    "kdtmq(query)\n",
    "# %timeit kdtmq(query = query)\n",
    "# %timeit simmq(query = query)"
   ]
  },
  {
   "cell_type": "code",
   "execution_count": null,
   "metadata": {},
   "outputs": [],
   "source": []
  }
 ],
 "metadata": {
  "kernelspec": {
   "display_name": "Python 3",
   "language": "python",
   "name": "python3"
  },
  "language_info": {
   "codemirror_mode": {
    "name": "ipython",
    "version": 3
   },
   "file_extension": ".py",
   "mimetype": "text/x-python",
   "name": "python",
   "nbconvert_exporter": "python",
   "pygments_lexer": "ipython3",
   "version": "3.7.4"
  }
 },
 "nbformat": 4,
 "nbformat_minor": 2
}
